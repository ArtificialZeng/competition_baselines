{
 "cells": [
  {
   "cell_type": "code",
   "execution_count": null,
   "metadata": {
    "collapsed": true
   },
   "outputs": [],
   "source": [
    "import warnings\n",
    "warnings.simplefilter('ignore')\n",
    "\n",
    "import os\n",
    "import re\n",
    "import gc\n",
    "\n",
    "import numpy as np\n",
    "import pandas as pd\n",
    "pd.set_option('max_columns', None)\n",
    "pd.set_option('max_rows', 200)\n",
    "\n",
    "from tqdm.notebook import tqdm\n",
    "\n",
    "from sklearn.preprocessing import LabelEncoder, MinMaxScaler, minmax_scale\n",
    "from sklearn.feature_extraction.text import TfidfVectorizer\n",
    "from sklearn.decomposition import TruncatedSVD\n",
    "from sklearn.metrics import auc, roc_auc_score\n",
    "\n",
    "from deepctr.models import DeepFM\n",
    "from deepctr.feature_column import SparseFeat, DenseFeat, get_feature_names"
   ]
  },
  {
   "cell_type": "code",
   "execution_count": null,
   "metadata": {},
   "outputs": [],
   "source": [
    "train_data = pd.read_csv('Sohu2022_data/rec_data/train-dataset.csv')\n",
    "test_data = pd.read_csv('Sohu2022_data/rec_data/test-dataset.csv')\n",
    "\n",
    "print(train_data.shape, test_data.shape)\n",
    "display(train_data.head())\n",
    "display(test_data.head())"
   ]
  },
  {
   "cell_type": "code",
   "execution_count": null,
   "metadata": {},
   "outputs": [],
   "source": [
    "train_data.label.value_counts()"
   ]
  },
  {
   "cell_type": "code",
   "execution_count": null,
   "metadata": {},
   "outputs": [],
   "source": [
    "data = pd.concat([train_data, test_data])\n",
    "print(data.shape)"
   ]
  },
  {
   "cell_type": "code",
   "execution_count": null,
   "metadata": {},
   "outputs": [],
   "source": [
    "senti_feats = pd.read_csv('senti_feats.csv')\n",
    "senti_feats"
   ]
  },
  {
   "cell_type": "code",
   "execution_count": null,
   "metadata": {},
   "outputs": [],
   "source": [
    "data = data.merge(senti_feats, left_on='itemId', right_on='id', how='left')\n",
    "data"
   ]
  },
  {
   "cell_type": "code",
   "execution_count": null,
   "metadata": {},
   "outputs": [],
   "source": [
    "data['entity_count'].isna().sum()"
   ]
  },
  {
   "cell_type": "code",
   "execution_count": null,
   "metadata": {
    "collapsed": true
   },
   "outputs": [],
   "source": [
    "for feat in ['pvId', 'suv', 'itemId', 'operator', 'browserType', \n",
    "             'deviceType', 'osType', 'province', 'city']:\n",
    "    lbe = LabelEncoder()\n",
    "    data[feat] = lbe.fit_transform(data[feat])"
   ]
  },
  {
   "cell_type": "code",
   "execution_count": null,
   "metadata": {
    "collapsed": true
   },
   "outputs": [],
   "source": [
    "# 造点统计特征\n",
    "\n",
    "data['pvid_count'] = data.groupby('pvId')['itemId'].transform('count')\n",
    "data['pvid_item_nunique'] = data.groupby('pvId')['itemId'].transform('nunique')\n",
    "data['pvid_suv_nunique'] = data.groupby('pvId')['suv'].transform('nunique')\n",
    "\n",
    "data['item_count'] = data.groupby('itemId')['itemId'].transform('count')\n",
    "data['item_suv_nunique'] = data.groupby('pvId')['suv'].transform('nunique')"
   ]
  },
  {
   "cell_type": "code",
   "execution_count": null,
   "metadata": {
    "collapsed": true
   },
   "outputs": [],
   "source": [
    "sparse_features = ['pvId', 'suv', 'itemId', 'operator', 'browserType', \n",
    "                   'deviceType', 'osType', 'province', 'city']\n",
    "dense_features = ['pvid_count', 'pvid_item_nunique', 'pvid_suv_nunique',\n",
    "                  'item_count', 'item_suv_nunique', \n",
    "                  'senti_0_max', 'senti_0_min', 'senti_0_mean',\n",
    "                  'senti_0_std', 'senti_1_max', 'senti_1_min', 'senti_1_mean',\n",
    "                  'senti_1_std', 'senti_2_max', 'senti_2_min', 'senti_2_mean',\n",
    "                  'senti_2_std', 'senti_3_max', 'senti_3_min', 'senti_3_mean',\n",
    "                  'senti_3_std', 'senti_4_max', 'senti_4_min', 'senti_4_mean',\n",
    "                  'senti_4_std', 'entity_count']\n",
    "\n",
    "target = ['label']"
   ]
  },
  {
   "cell_type": "code",
   "execution_count": null,
   "metadata": {
    "collapsed": true
   },
   "outputs": [],
   "source": [
    "data[dense_features] = data[dense_features].fillna(0, )"
   ]
  },
  {
   "cell_type": "code",
   "execution_count": null,
   "metadata": {},
   "outputs": [],
   "source": [
    "mms = MinMaxScaler(feature_range=(0, 1))\n",
    "data[dense_features] = mms.fit_transform(data[dense_features])"
   ]
  },
  {
   "cell_type": "code",
   "execution_count": null,
   "metadata": {
    "collapsed": true
   },
   "outputs": [],
   "source": [
    "fixlen_feature_columns = [SparseFeat(feat, vocabulary_size=data[feat].max() + 1, embedding_dim=16)\n",
    "                              for i, feat in enumerate(sparse_features)] + [DenseFeat(feat, 1, )\n",
    "                                                                            for feat in dense_features]"
   ]
  },
  {
   "cell_type": "code",
   "execution_count": null,
   "metadata": {
    "collapsed": true
   },
   "outputs": [],
   "source": [
    "dnn_feature_columns = fixlen_feature_columns\n",
    "linear_feature_columns = fixlen_feature_columns\n",
    "\n",
    "feature_names = get_feature_names(linear_feature_columns + dnn_feature_columns)"
   ]
  },
  {
   "cell_type": "code",
   "execution_count": null,
   "metadata": {},
   "outputs": [],
   "source": [
    "data.drop(['userSeq', 'logTs'], axis=1, inplace=True)\n",
    "display(data.head())"
   ]
  },
  {
   "cell_type": "code",
   "execution_count": null,
   "metadata": {},
   "outputs": [],
   "source": [
    "train_data = data[data['label'].notna()]\n",
    "test_data = data[data['label'].isna()]\n",
    "\n",
    "train_data.drop(['testSampleId'], axis=1, inplace=True)\n",
    "test_data.drop(['sampleId', 'label'], axis=1, inplace=True)\n",
    "\n",
    "print(train_data.shape, test_data.shape)"
   ]
  },
  {
   "cell_type": "code",
   "execution_count": null,
   "metadata": {},
   "outputs": [],
   "source": [
    "del data; gc.collect()"
   ]
  },
  {
   "cell_type": "code",
   "execution_count": null,
   "metadata": {},
   "outputs": [],
   "source": [
    "display(train_data.head())\n",
    "display(test_data.head())"
   ]
  },
  {
   "cell_type": "code",
   "execution_count": null,
   "metadata": {},
   "outputs": [],
   "source": [
    "# 数据划分\n",
    "\n",
    "train = train_data[:int(train_data.shape[0]*0.8)]\n",
    "valid = train_data[int(train_data.shape[0]*0.8):]\n",
    "test = test_data.copy()\n",
    "\n",
    "train.shape, valid.shape, test.shape"
   ]
  },
  {
   "cell_type": "code",
   "execution_count": null,
   "metadata": {
    "collapsed": true
   },
   "outputs": [],
   "source": [
    "train_model_input = {name: train[name] for name in feature_names}\n",
    "valid_model_input = {name: valid[name] for name in feature_names}\n",
    "test_model_input = {name: test[name] for name in feature_names}"
   ]
  },
  {
   "cell_type": "code",
   "execution_count": null,
   "metadata": {},
   "outputs": [],
   "source": [
    "model = DeepFM(linear_feature_columns, dnn_feature_columns, task='binary')\n",
    "model.compile(\"adam\", \"binary_crossentropy\", metrics=['binary_crossentropy', 'accuracy'])"
   ]
  },
  {
   "cell_type": "code",
   "execution_count": null,
   "metadata": {},
   "outputs": [],
   "source": [
    "history = model.fit(train_model_input, train[target].values,\n",
    "                    batch_size=256, epochs=3, verbose=1, \n",
    "                    validation_data=(valid_model_input, valid[target].values))"
   ]
  },
  {
   "cell_type": "code",
   "execution_count": null,
   "metadata": {},
   "outputs": [],
   "source": [
    "pred_ans = model.predict(valid_model_input, batch_size=256)\n",
    "print(\"valid AUC\", round(roc_auc_score(valid[target].values, pred_ans), 4))"
   ]
  },
  {
   "cell_type": "code",
   "execution_count": null,
   "metadata": {
    "collapsed": true
   },
   "outputs": [],
   "source": [
    "pred_ans = model.predict(test_model_input, batch_size=256)\n",
    "sub = pd.read_csv('submission_orig/section2.txt', sep='\\t')\n",
    "sub['result'] = pred_ans\n",
    "sub.to_csv('section2.txt', sep='\\t', index=False)"
   ]
  },
  {
   "cell_type": "code",
   "execution_count": null,
   "metadata": {
    "collapsed": true
   },
   "outputs": [],
   "source": []
  }
 ],
 "metadata": {
  "kernelspec": {
   "display_name": "Python 3",
   "language": "python",
   "name": "python3"
  },
  "language_info": {
   "codemirror_mode": {
    "name": "ipython",
    "version": 3
   },
   "file_extension": ".py",
   "mimetype": "text/x-python",
   "name": "python",
   "nbconvert_exporter": "python",
   "pygments_lexer": "ipython3",
   "version": "3.6.3"
  }
 },
 "nbformat": 4,
 "nbformat_minor": 2
}
